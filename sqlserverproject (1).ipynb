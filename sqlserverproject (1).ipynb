{
 "cells": [
  {
   "cell_type": "code",
   "execution_count": 1,
   "id": "2c1bbd89-8b8a-4bf6-88a6-972f9adad965",
   "metadata": {},
   "outputs": [],
   "source": [
    "import pandas as pd\n",
    "import pandas\n",
    "import numpy as np\n",
    "import glob\n",
    "import csv\n",
    "from sqlalchemy import create_engine\n"
   ]
  },
  {
   "cell_type": "code",
   "execution_count": 49,
   "id": "bd96bad2-3d4b-4075-84f0-808691f7b3cd",
   "metadata": {},
   "outputs": [],
   "source": [
    "availability_df =pd.read_csv('calendar.csv')\n",
    "listings_df=pd.read_csv('listings.csv')\n",
    "review_df=pd.read_csv('reviews.csv')\n"
   ]
  },
  {
   "cell_type": "code",
   "execution_count": 50,
   "id": "8f033d86-3f76-4e2b-9dcb-5b3c0c43b986",
   "metadata": {},
   "outputs": [
    {
     "data": {
      "text/plain": [
       "0              Stylish Queen Anne Apartment\n",
       "1        Bright & Airy Queen Anne Apartment\n",
       "2       New Modern House-Amazing water view\n",
       "3                        Queen Anne Chateau\n",
       "4            Charming craftsman 3 bdm house\n",
       "                       ...                 \n",
       "3813     3BR Mountain View House in Seattle\n",
       "3814      Portage Bay View!-One Bedroom Apt\n",
       "3815      Private apartment view of Lake WA\n",
       "3816      Amazing View with Modern Comfort!\n",
       "3817              Large Lakefront Apartment\n",
       "Name: name, Length: 3818, dtype: object"
      ]
     },
     "execution_count": 50,
     "metadata": {},
     "output_type": "execute_result"
    }
   ],
   "source": [
    "listings_df['name']"
   ]
  },
  {
   "cell_type": "code",
   "execution_count": 51,
   "id": "24eb706c-87f9-4387-b2b7-fc31ca6970fe",
   "metadata": {},
   "outputs": [],
   "source": [
    "listing_df = listings_df[[\"id\",'name',\"street\",\"neighbourhood_cleansed\",\"neighbourhood_group_cleansed\",\"city\",\"state\",\"zipcode\",\"latitude\",\"longitude\",\"is_location_exact\",\"property_type\",\"room_type\",\"accommodates\",\"bathrooms\",\"bedrooms\",\"beds\",\"bed_type\",\"square_feet\",\"price\",\"weekly_price\",\"monthly_price\",\"security_deposit\",\"cleaning_fee\",\"guests_included\",\"extra_people\",\"minimum_nights\",\"maximum_nights\",\"has_availability\",\"availability_30\",\"availability_60\",\"availability_90\",\"availability_365\",\"number_of_reviews\",\"first_review\",\"last_review\",\"review_scores_rating\",\"review_scores_accuracy\",\"review_scores_cleanliness\",\"review_scores_checkin\",\"review_scores_communication\",\"review_scores_location\",\"review_scores_value\",\"requires_license\",\"instant_bookable\",\"cancellation_policy\",\"require_guest_profile_picture\",\"require_guest_phone_verification\",\"reviews_per_month\",\"host_id\"]].copy()\n",
    "host_df = listings_df[[\"host_id\",\"host_name\",\"host_since\",\"host_location\",\"host_response_time\",\"host_response_rate\",\"host_acceptance_rate\",\"host_is_superhost\",\"host_neighbourhood\",\"host_listings_count\",\"host_has_profile_pic\",\"host_identity_verified\"]].copy()"
   ]
  },
  {
   "cell_type": "code",
   "execution_count": 52,
   "id": "52da0800-d599-4ee3-a2c6-39f06e6e2e4e",
   "metadata": {},
   "outputs": [
    {
     "name": "stdout",
     "output_type": "stream",
     "text": [
      "(3818, 50)\n"
     ]
    },
    {
     "data": {
      "text/plain": [
       "(3818, 12)"
      ]
     },
     "execution_count": 52,
     "metadata": {},
     "output_type": "execute_result"
    }
   ],
   "source": [
    "print(listing_df.shape)\n",
    "host_df.shape"
   ]
  },
  {
   "cell_type": "markdown",
   "id": "dac8ca02-98de-49b5-b63f-4008e6648cd1",
   "metadata": {},
   "source": [
    "\n",
    "# listings dataframe"
   ]
  },
  {
   "cell_type": "code",
   "execution_count": 53,
   "id": "2259b660-67be-4fb4-83d2-a4925940280f",
   "metadata": {},
   "outputs": [],
   "source": [
    "# Remove duplicates\n",
    "listing_df.drop_duplicates(keep=\"first\",inplace=True)\n",
    "\n",
    "# Convert columns to datetime format\n",
    "listing_df[\"first_review\"]=pd.to_datetime(listing_df[\"first_review\"])\n",
    "listing_df[\"last_review\"]=pd.to_datetime(listing_df[\"last_review\"])\n",
    "\n",
    "# Replace columns designated as \"t\" or \"f\" as the \"True\" or \"False\" booleans\n",
    "listing_df[\"is_location_exact\"].replace([\"t\",\"f\"],[True,False],inplace=True)\n",
    "listing_df[\"has_availability\"].replace([\"t\",\"f\"],[True,False],inplace=True)\n",
    "listing_df[\"requires_license\"].replace([\"t\",\"f\"],[True,False],inplace=True)\n",
    "listing_df[\"instant_bookable\"].replace([\"t\",\"f\"],[True,False],inplace=True)\n",
    "listing_df[\"require_guest_profile_picture\"].replace([\"t\",\"f\"],[True,False],inplace=True)\n",
    "listing_df[\"require_guest_phone_verification\"].replace([\"t\",\"f\"],[True,False],inplace=True)\n",
    "\n",
    "# Convert all currency columns to numeric values\n",
    "currency_cols=[\"price\",\"weekly_price\",\"monthly_price\",\"security_deposit\",\"cleaning_fee\",\"extra_people\"]\n",
    "listing_df[currency_cols]=listing_df[currency_cols].replace({'\\$': '', ',': ''}, regex=True)\n",
    "listing_df[\"price\"] = pd.to_numeric(listing_df[\"price\"])\n",
    "listing_df[\"weekly_price\"] = pd.to_numeric(listing_df[\"weekly_price\"])\n",
    "listing_df[\"monthly_price\"] = pd.to_numeric(listing_df[\"monthly_price\"])\n",
    "listing_df[\"security_deposit\"] = pd.to_numeric(listing_df[\"security_deposit\"])\n",
    "listing_df[\"cleaning_fee\"] = pd.to_numeric(listing_df[\"cleaning_fee\"])\n",
    "listing_df[\"extra_people\"] = pd.to_numeric(listing_df[\"extra_people\"])"
   ]
  },
  {
   "cell_type": "markdown",
   "id": "8944ab73-d029-46d2-b283-d0aadcd46977",
   "metadata": {},
   "source": [
    "# hosts dataframe:"
   ]
  },
  {
   "cell_type": "code",
   "execution_count": 54,
   "id": "95e0130f-134c-40db-92af-63a953f57b31",
   "metadata": {},
   "outputs": [],
   "source": [
    "# Remove duplicates\n",
    "host_df.drop_duplicates(keep=\"first\",inplace=True)\n",
    "\n",
    "# Convert columns to datetime format\n",
    "host_df[\"host_since\"]=pd.to_datetime(host_df[\"host_since\"])\n",
    "\n",
    "# Replace columns designated as \"t\" or \"f\" as the \"True\" or \"False\" booleans\n",
    "host_df[\"host_is_superhost\"].replace([\"t\",\"f\"],[True,False],inplace=True)\n",
    "host_df[\"host_has_profile_pic\"].replace([\"t\",\"f\"],[True,False],inplace=True)\n",
    "host_df[\"host_identity_verified\"].replace([\"t\",\"f\"],[True,False],inplace=True)\n",
    "\n",
    "# Convert all percentage columns to numeric values\n",
    "host_df[\"host_response_rate\"]=host_df[\"host_response_rate\"].replace({'\\$': '', ',': '', '%':''}, regex=True)\n",
    "host_df[\"host_acceptance_rate\"]=host_df[\"host_acceptance_rate\"].replace({'\\$': '', ',': '', '%':''}, regex=True)\n",
    "host_df[\"host_response_rate\"] = pd.to_numeric(host_df[\"host_response_rate\"])\n",
    "host_df[\"host_acceptance_rate\"] = pd.to_numeric(host_df[\"host_acceptance_rate\"])"
   ]
  },
  {
   "cell_type": "markdown",
   "id": "c44fcaf4-bbd6-470c-87ac-026f2d0a16d4",
   "metadata": {},
   "source": [
    "# property availability dataframe"
   ]
  },
  {
   "cell_type": "code",
   "execution_count": 55,
   "id": "91762a81-112e-4267-9118-c7bc7719c236",
   "metadata": {},
   "outputs": [
    {
     "data": {
      "text/html": [
       "<div>\n",
       "<style scoped>\n",
       "    .dataframe tbody tr th:only-of-type {\n",
       "        vertical-align: middle;\n",
       "    }\n",
       "\n",
       "    .dataframe tbody tr th {\n",
       "        vertical-align: top;\n",
       "    }\n",
       "\n",
       "    .dataframe thead th {\n",
       "        text-align: right;\n",
       "    }\n",
       "</style>\n",
       "<table border=\"1\" class=\"dataframe\">\n",
       "  <thead>\n",
       "    <tr style=\"text-align: right;\">\n",
       "      <th></th>\n",
       "      <th>listing_id</th>\n",
       "      <th>date</th>\n",
       "      <th>available</th>\n",
       "      <th>price</th>\n",
       "    </tr>\n",
       "  </thead>\n",
       "  <tbody>\n",
       "    <tr>\n",
       "      <th>0</th>\n",
       "      <td>241032</td>\n",
       "      <td>2016-01-04</td>\n",
       "      <td>t</td>\n",
       "      <td>$85.00</td>\n",
       "    </tr>\n",
       "    <tr>\n",
       "      <th>1</th>\n",
       "      <td>241032</td>\n",
       "      <td>2016-01-05</td>\n",
       "      <td>t</td>\n",
       "      <td>$85.00</td>\n",
       "    </tr>\n",
       "    <tr>\n",
       "      <th>2</th>\n",
       "      <td>241032</td>\n",
       "      <td>2016-01-06</td>\n",
       "      <td>f</td>\n",
       "      <td>NaN</td>\n",
       "    </tr>\n",
       "    <tr>\n",
       "      <th>3</th>\n",
       "      <td>241032</td>\n",
       "      <td>2016-01-07</td>\n",
       "      <td>f</td>\n",
       "      <td>NaN</td>\n",
       "    </tr>\n",
       "    <tr>\n",
       "      <th>4</th>\n",
       "      <td>241032</td>\n",
       "      <td>2016-01-08</td>\n",
       "      <td>f</td>\n",
       "      <td>NaN</td>\n",
       "    </tr>\n",
       "    <tr>\n",
       "      <th>...</th>\n",
       "      <td>...</td>\n",
       "      <td>...</td>\n",
       "      <td>...</td>\n",
       "      <td>...</td>\n",
       "    </tr>\n",
       "    <tr>\n",
       "      <th>1393565</th>\n",
       "      <td>10208623</td>\n",
       "      <td>2016-12-29</td>\n",
       "      <td>f</td>\n",
       "      <td>NaN</td>\n",
       "    </tr>\n",
       "    <tr>\n",
       "      <th>1393566</th>\n",
       "      <td>10208623</td>\n",
       "      <td>2016-12-30</td>\n",
       "      <td>f</td>\n",
       "      <td>NaN</td>\n",
       "    </tr>\n",
       "    <tr>\n",
       "      <th>1393567</th>\n",
       "      <td>10208623</td>\n",
       "      <td>2016-12-31</td>\n",
       "      <td>f</td>\n",
       "      <td>NaN</td>\n",
       "    </tr>\n",
       "    <tr>\n",
       "      <th>1393568</th>\n",
       "      <td>10208623</td>\n",
       "      <td>2017-01-01</td>\n",
       "      <td>f</td>\n",
       "      <td>NaN</td>\n",
       "    </tr>\n",
       "    <tr>\n",
       "      <th>1393569</th>\n",
       "      <td>10208623</td>\n",
       "      <td>2017-01-02</td>\n",
       "      <td>f</td>\n",
       "      <td>NaN</td>\n",
       "    </tr>\n",
       "  </tbody>\n",
       "</table>\n",
       "<p>1393570 rows × 4 columns</p>\n",
       "</div>"
      ],
      "text/plain": [
       "         listing_id        date available   price\n",
       "0            241032  2016-01-04         t  $85.00\n",
       "1            241032  2016-01-05         t  $85.00\n",
       "2            241032  2016-01-06         f     NaN\n",
       "3            241032  2016-01-07         f     NaN\n",
       "4            241032  2016-01-08         f     NaN\n",
       "...             ...         ...       ...     ...\n",
       "1393565    10208623  2016-12-29         f     NaN\n",
       "1393566    10208623  2016-12-30         f     NaN\n",
       "1393567    10208623  2016-12-31         f     NaN\n",
       "1393568    10208623  2017-01-01         f     NaN\n",
       "1393569    10208623  2017-01-02         f     NaN\n",
       "\n",
       "[1393570 rows x 4 columns]"
      ]
     },
     "execution_count": 55,
     "metadata": {},
     "output_type": "execute_result"
    }
   ],
   "source": [
    "availability_df"
   ]
  },
  {
   "cell_type": "code",
   "execution_count": 56,
   "id": "71a89670-283f-4c8d-b27b-e0cd6a3bdf09",
   "metadata": {},
   "outputs": [],
   "source": [
    "# Convert columns to datetime format\n",
    "availability_df[\"date\"]=pd.to_datetime(availability_df[\"date\"])\n",
    "\n",
    "# Replace columns designated as \"t\" or \"f\" as the \"True\" or \"False\" booleans\n",
    "availability_df[\"available\"].replace([\"t\",\"f\"], [True,False], inplace=True)\n",
    "\n",
    "# Convert all currency columns to numeric values\n",
    "availability_df[\"price\"] = availability_df[\"price\"].replace({'\\$': '', ',': ''}, regex=True)\n",
    "availability_df[\"price\"] = pd.to_numeric(availability_df[\"price\"])"
   ]
  },
  {
   "cell_type": "markdown",
   "id": "f15cd3cd-7f84-4afd-970a-b574417f5f90",
   "metadata": {},
   "source": [
    "# reviews dataframe"
   ]
  },
  {
   "cell_type": "code",
   "execution_count": 57,
   "id": "47f815af-3b76-4101-9da2-dda6e6f92508",
   "metadata": {},
   "outputs": [
    {
     "data": {
      "text/html": [
       "<div>\n",
       "<style scoped>\n",
       "    .dataframe tbody tr th:only-of-type {\n",
       "        vertical-align: middle;\n",
       "    }\n",
       "\n",
       "    .dataframe tbody tr th {\n",
       "        vertical-align: top;\n",
       "    }\n",
       "\n",
       "    .dataframe thead th {\n",
       "        text-align: right;\n",
       "    }\n",
       "</style>\n",
       "<table border=\"1\" class=\"dataframe\">\n",
       "  <thead>\n",
       "    <tr style=\"text-align: right;\">\n",
       "      <th></th>\n",
       "      <th>listing_id</th>\n",
       "      <th>id</th>\n",
       "      <th>date</th>\n",
       "      <th>reviewer_id</th>\n",
       "      <th>reviewer_name</th>\n",
       "      <th>comments</th>\n",
       "    </tr>\n",
       "  </thead>\n",
       "  <tbody>\n",
       "    <tr>\n",
       "      <th>0</th>\n",
       "      <td>7202016</td>\n",
       "      <td>38917982</td>\n",
       "      <td>2015-07-19</td>\n",
       "      <td>28943674</td>\n",
       "      <td>Bianca</td>\n",
       "      <td>Cute and cozy place. Perfect location to every...</td>\n",
       "    </tr>\n",
       "    <tr>\n",
       "      <th>1</th>\n",
       "      <td>7202016</td>\n",
       "      <td>39087409</td>\n",
       "      <td>2015-07-20</td>\n",
       "      <td>32440555</td>\n",
       "      <td>Frank</td>\n",
       "      <td>Kelly has a great room in a very central locat...</td>\n",
       "    </tr>\n",
       "    <tr>\n",
       "      <th>2</th>\n",
       "      <td>7202016</td>\n",
       "      <td>39820030</td>\n",
       "      <td>2015-07-26</td>\n",
       "      <td>37722850</td>\n",
       "      <td>Ian</td>\n",
       "      <td>Very spacious apartment, and in a great neighb...</td>\n",
       "    </tr>\n",
       "    <tr>\n",
       "      <th>3</th>\n",
       "      <td>7202016</td>\n",
       "      <td>40813543</td>\n",
       "      <td>2015-08-02</td>\n",
       "      <td>33671805</td>\n",
       "      <td>George</td>\n",
       "      <td>Close to Seattle Center and all it has to offe...</td>\n",
       "    </tr>\n",
       "    <tr>\n",
       "      <th>4</th>\n",
       "      <td>7202016</td>\n",
       "      <td>41986501</td>\n",
       "      <td>2015-08-10</td>\n",
       "      <td>34959538</td>\n",
       "      <td>Ming</td>\n",
       "      <td>Kelly was a great host and very accommodating ...</td>\n",
       "    </tr>\n",
       "    <tr>\n",
       "      <th>...</th>\n",
       "      <td>...</td>\n",
       "      <td>...</td>\n",
       "      <td>...</td>\n",
       "      <td>...</td>\n",
       "      <td>...</td>\n",
       "      <td>...</td>\n",
       "    </tr>\n",
       "    <tr>\n",
       "      <th>84844</th>\n",
       "      <td>3624990</td>\n",
       "      <td>50436321</td>\n",
       "      <td>2015-10-12</td>\n",
       "      <td>37419458</td>\n",
       "      <td>Ryan</td>\n",
       "      <td>The description and pictures of the apartment ...</td>\n",
       "    </tr>\n",
       "    <tr>\n",
       "      <th>84845</th>\n",
       "      <td>3624990</td>\n",
       "      <td>51024875</td>\n",
       "      <td>2015-10-17</td>\n",
       "      <td>6933252</td>\n",
       "      <td>Linda</td>\n",
       "      <td>We had an excellent stay. It was clean and com...</td>\n",
       "    </tr>\n",
       "    <tr>\n",
       "      <th>84846</th>\n",
       "      <td>3624990</td>\n",
       "      <td>51511988</td>\n",
       "      <td>2015-10-20</td>\n",
       "      <td>19543701</td>\n",
       "      <td>Jaime</td>\n",
       "      <td>Gran ubicación, cerca de todo lo atractivo del...</td>\n",
       "    </tr>\n",
       "    <tr>\n",
       "      <th>84847</th>\n",
       "      <td>3624990</td>\n",
       "      <td>52814482</td>\n",
       "      <td>2015-11-02</td>\n",
       "      <td>24445024</td>\n",
       "      <td>Jørgen</td>\n",
       "      <td>Very good apartement, clean and well sized. Si...</td>\n",
       "    </tr>\n",
       "    <tr>\n",
       "      <th>84848</th>\n",
       "      <td>9727246</td>\n",
       "      <td>56429621</td>\n",
       "      <td>2015-12-13</td>\n",
       "      <td>30860360</td>\n",
       "      <td>Stephanie</td>\n",
       "      <td>Breanne was a great host. Check in was easy, s...</td>\n",
       "    </tr>\n",
       "  </tbody>\n",
       "</table>\n",
       "<p>84849 rows × 6 columns</p>\n",
       "</div>"
      ],
      "text/plain": [
       "       listing_id        id        date  reviewer_id reviewer_name  \\\n",
       "0         7202016  38917982  2015-07-19     28943674        Bianca   \n",
       "1         7202016  39087409  2015-07-20     32440555         Frank   \n",
       "2         7202016  39820030  2015-07-26     37722850           Ian   \n",
       "3         7202016  40813543  2015-08-02     33671805        George   \n",
       "4         7202016  41986501  2015-08-10     34959538          Ming   \n",
       "...           ...       ...         ...          ...           ...   \n",
       "84844     3624990  50436321  2015-10-12     37419458          Ryan   \n",
       "84845     3624990  51024875  2015-10-17      6933252         Linda   \n",
       "84846     3624990  51511988  2015-10-20     19543701         Jaime   \n",
       "84847     3624990  52814482  2015-11-02     24445024        Jørgen   \n",
       "84848     9727246  56429621  2015-12-13     30860360     Stephanie   \n",
       "\n",
       "                                                comments  \n",
       "0      Cute and cozy place. Perfect location to every...  \n",
       "1      Kelly has a great room in a very central locat...  \n",
       "2      Very spacious apartment, and in a great neighb...  \n",
       "3      Close to Seattle Center and all it has to offe...  \n",
       "4      Kelly was a great host and very accommodating ...  \n",
       "...                                                  ...  \n",
       "84844  The description and pictures of the apartment ...  \n",
       "84845  We had an excellent stay. It was clean and com...  \n",
       "84846  Gran ubicación, cerca de todo lo atractivo del...  \n",
       "84847  Very good apartement, clean and well sized. Si...  \n",
       "84848  Breanne was a great host. Check in was easy, s...  \n",
       "\n",
       "[84849 rows x 6 columns]"
      ]
     },
     "execution_count": 57,
     "metadata": {},
     "output_type": "execute_result"
    }
   ],
   "source": [
    "review_df"
   ]
  },
  {
   "cell_type": "code",
   "execution_count": 58,
   "id": "c0b34b97-18d2-484a-a698-70e5b396f71c",
   "metadata": {},
   "outputs": [],
   "source": [
    "# Convert columns to datetime format\n",
    "review_df[\"date\"] = pd.to_datetime(review_df[\"date\"])"
   ]
  },
  {
   "cell_type": "markdown",
   "id": "e72da87c-a4a4-4e2d-bf7b-47353f059802",
   "metadata": {},
   "source": [
    "# Establish the connection with SQL Server"
   ]
  },
  {
   "cell_type": "code",
   "execution_count": 59,
   "id": "a9c5495b-4905-4033-85d6-01667022758e",
   "metadata": {},
   "outputs": [
    {
     "name": "stdout",
     "output_type": "stream",
     "text": [
      "Requirement already satisfied: pyodbc in d:\\python\\lib\\site-packages (5.0.1)Note: you may need to restart the kernel to use updated packages.\n",
      "\n"
     ]
    }
   ],
   "source": [
    "pip install pyodbc"
   ]
  },
  {
   "cell_type": "code",
   "execution_count": 33,
   "id": "84f22e31-251e-4e31-8638-51bf084d6a68",
   "metadata": {},
   "outputs": [],
   "source": [
    "# conn_str=(\"Driver={ODBC Driver 17 for SQL Server};\"\n",
    "#  \"Server=DESKTOP-B1JT9V8;\"\n",
    "#  \"Database= Airbnb;\"\n",
    "# \"Trusted_Connection=yes;\")\n",
    "# pyodbc.connect(conn_str)"
   ]
  },
  {
   "cell_type": "code",
   "execution_count": null,
   "id": "d6353d42-b735-4bc0-9017-abe9944307bc",
   "metadata": {},
   "outputs": [],
   "source": [
    "import pandas as pd\n",
    "import pyodbc\n",
    "\n",
    "# Define your SQL Server connection parameters\n",
    "server = 'your_server_name'\n",
    "database = 'your_database_name'\n",
    "username = 'your_username'\n",
    "password = 'your_password'\n",
    "\n",
    "# Define the path to your CSV file\n",
    "csv_file = 'your_file.csv'\n",
    "\n",
    "# Establish a connection to SQL Server\n",
    "conn_str = f'DRIVER=ODBC Driver 17 for SQL Server;SERVER={server};DATABASE={database};UID={username};PWD={password}'\n",
    "conn = pyodbc.connect(conn_str)\n",
    "cursor = conn.cursor()\n",
    "\n",
    "try:\n",
    "    # Read CSV file into pandas DataFrame\n",
    "    host_df = pd.read_csv(csv_file)\n",
    "\n",
    "    # Preprocess data: replace incorrect decimal separators\n",
    "    host_df['host_response_rate'] = host_df['host_response_rate'].str.replace(',', '.')\n",
    "\n",
    "    # Attempt bulk insert operation into SQL Server with error logging\n",
    "    for index, row in host_df.iterrows():\n",
    "        try:\n",
    "            # Construct and execute the insert query\n",
    "            cursor.execute(\"INSERT INTO YourTableName (host_response_rate) VALUES (?)\", row['host_response_rate'])\n",
    "            conn.commit()\n",
    "        except pyodbc.Error as e:\n",
    "            # Log the error message\n",
    "            print(f\"Error inserting row {index+1}: {e}\")\n",
    "\n",
    "except Exception as ex:\n",
    "    print(f\"An error occurred: {ex}\")\n",
    "\n",
    "finally:\n",
    "    # Close the cursor and connection\n",
    "    cursor.close()\n",
    "    conn.close()\n"
   ]
  },
  {
   "cell_type": "code",
   "execution_count": 13,
   "id": "7e6d1689-4471-4b91-b88e-1a69f022524b",
   "metadata": {
    "scrolled": true
   },
   "outputs": [],
   "source": [
    "# import pandas as pd\n",
    "# import pyodbc\n",
    "\n",
    "# # Establish connection string\n",
    "# server = 'DESKTOP-B1JT9V8'\n",
    "\n",
    "# database = 'Airbnb'\n",
    "# username = 'nada'\n",
    "# password = '123'\n",
    "\n",
    "# driver = '{ODBC Driver 17 for SQL Server}'\n",
    "# #connection_string = f'DRIVER={driver};SERVER={server};DATABASE={database};UID={username};PWD={password}'\n",
    "# connection_string = f'mssql://{username}:{password}@{server}/{database}?driver={driver}'\n",
    "\n",
    "\n",
    "\n",
    "# # Name of the table to which you want to write\n",
    "# table_name = 'airbnb_hosts'\n",
    "\n",
    "# try:\n",
    "#     # Create SQLAlchemy engine\n",
    "#     engine = create_engine(connection_string)\n",
    "#     # Establish connection\n",
    "#     #conn = pyodbc.connect(connection_string)\n",
    "# # Write DataFrame to SQL Server using the engine\n",
    "#     host_df.to_sql(name=table_name, con=engine, if_exists='replace', index=False)\n",
    "\n",
    "#     # Write DataFrame to SQL Server\n",
    "#     #host_df.to_sql(name=table_name, con=conn, if_exists='replace', index=False)\n",
    "\n",
    "#     print(\"DataFrame written to SQL Server successfully!\")\n",
    "\n",
    "# except Exception as e:\n",
    "#     print(\"An error occurred:\", e)\n",
    "\n",
    "# finally:\n",
    "#     # Close connection\n",
    "#     conn.close()\n"
   ]
  },
  {
   "cell_type": "code",
   "execution_count": 66,
   "id": "e2e36f26-a54c-40ae-b548-4bd734da7d53",
   "metadata": {},
   "outputs": [],
   "source": [
    "review_df.rename(columns={'date': 'review_date'}, inplace=True)\n",
    "availability_df.rename(columns={'date': 'availability_date'}, inplace=True)\n",
    "listing_df.rename(columns={'name': 'listing_name'}, inplace=True)\n"
   ]
  },
  {
   "cell_type": "code",
   "execution_count": 15,
   "id": "d21cd505-7f06-4266-b7fa-1fa0dbc888c4",
   "metadata": {},
   "outputs": [],
   "source": [
    "host_df.to_csv('host.csv')\n",
    "review_df.to_csv('review.csv')\n",
    "availability_df.to_csv('availability.csv')\n",
    "listing_df.to_csv('listing.csv')\n"
   ]
  },
  {
   "cell_type": "code",
   "execution_count": 16,
   "id": "19db84ef-3945-4190-a969-e40f74ea96c4",
   "metadata": {},
   "outputs": [],
   "source": []
  },
  {
   "cell_type": "code",
   "execution_count": 36,
   "id": "bf3c3fc3-5f98-4e1f-bb4f-6062acce6bbd",
   "metadata": {},
   "outputs": [
    {
     "data": {
      "text/plain": [
       "0"
      ]
     },
     "execution_count": 36,
     "metadata": {},
     "output_type": "execute_result"
    }
   ],
   "source": [
    "\n",
    "# host_df['host_acceptance_rate'].fillna(0,inplace=True)\n",
    "\n",
    "# host_df['host_acceptance_rate'].isnull().sum()\n"
   ]
  },
  {
   "cell_type": "code",
   "execution_count": 63,
   "id": "eb8f7994-bf23-44cd-afcf-945196b445f5",
   "metadata": {},
   "outputs": [],
   "source": [
    "host_df=host_df.dropna()"
   ]
  },
  {
   "cell_type": "code",
   "execution_count": 68,
   "id": "19c36658-2664-4e80-a378-6521b4274d0e",
   "metadata": {},
   "outputs": [
    {
     "data": {
      "text/plain": [
       "0"
      ]
     },
     "execution_count": 68,
     "metadata": {},
     "output_type": "execute_result"
    }
   ],
   "source": [
    "host_df['host_listings_count'].isnull().sum()"
   ]
  },
  {
   "cell_type": "code",
   "execution_count": 81,
   "id": "91f89d47-cbf0-48d2-a333-fd81130d868f",
   "metadata": {
    "scrolled": true
   },
   "outputs": [],
   "source": [
    "#host_df.astype({'host_acceptance_rate': 'int64','host_response_rate':'int64','host_listings_count':'int64','host_identity_verified': 'bool','host_has_profile_pic': 'bool','host_is_superhost': 'bool'}).dtypes\n",
    "host_df['host_acceptance_rate'] = host_df['host_acceptance_rate'].astype('int32')\n",
    "host_df['host_response_rate'] = host_df['host_response_rate'].astype('int32')\n",
    "host_df['host_listings_count'] = host_df['host_listings_count'].astype('int32')\n",
    "host_df['host_identity_verified'] = host_df['host_identity_verified'].astype('bool')\n",
    "host_df['host_has_profile_pic'] = host_df['host_has_profile_pic'].astype('bool')\n",
    "host_df['host_is_superhost'] = host_df['host_is_superhost'].astype('bool')\n"
   ]
  },
  {
   "cell_type": "code",
   "execution_count": null,
   "id": "6648ee77-346c-4040-9b79-662c06788f8c",
   "metadata": {},
   "outputs": [],
   "source": [
    "review_df.to_csv('review.csv',header=True,sep=',', index=False, encoding='utf-8')\n",
    "availability_df.to_csv('availability.csv',header=True,sep=',', index=False, encoding='utf-8')\n",
    "listing_df.to_csv('listing.csv',header=True,sep=',', index=False, encoding='utf-8')"
   ]
  },
  {
   "cell_type": "code",
   "execution_count": null,
   "id": "b3446b82-b3da-4168-9984-2e3f49edaa1f",
   "metadata": {},
   "outputs": [],
   "source": []
  },
  {
   "cell_type": "code",
   "execution_count": null,
   "id": "e5d633e5-6c39-4eeb-9b62-d52378b3e9d0",
   "metadata": {},
   "outputs": [],
   "source": [
    "\n",
    "# BULK INSERT dbo.Table_1\n",
    "# FROM '‪G:\\SQL\\sql_project\\cleaned_data'\n",
    "# WITH\n",
    "# FORMAT='xls', FIRSTROW=2\n",
    "# GO"
   ]
  },
  {
   "cell_type": "code",
   "execution_count": 83,
   "id": "86a2f025-961f-4c9e-b370-917a4ed21128",
   "metadata": {},
   "outputs": [],
   "source": [
    "host_df.to_csv('host.csv',header=True,sep=',', index=False, encoding='utf-8')"
   ]
  },
  {
   "cell_type": "code",
   "execution_count": null,
   "id": "ccfc9dbf-123e-461f-89a6-d11b2539c052",
   "metadata": {},
   "outputs": [],
   "source": []
  },
  {
   "cell_type": "code",
   "execution_count": null,
   "id": "4ab45865-5ac0-4287-8f6a-d9f5fd0d7c98",
   "metadata": {},
   "outputs": [],
   "source": [
    "\n"
   ]
  }
 ],
 "metadata": {
  "kernelspec": {
   "display_name": "Python 3 (ipykernel)",
   "language": "python",
   "name": "python3"
  },
  "language_info": {
   "codemirror_mode": {
    "name": "ipython",
    "version": 3
   },
   "file_extension": ".py",
   "mimetype": "text/x-python",
   "name": "python",
   "nbconvert_exporter": "python",
   "pygments_lexer": "ipython3",
   "version": "3.11.7"
  }
 },
 "nbformat": 4,
 "nbformat_minor": 5
}
